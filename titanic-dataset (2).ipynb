{
 "cells": [
  {
   "cell_type": "code",
   "execution_count": 6,
   "id": "6d19d628",
   "metadata": {
    "_cell_guid": "b1076dfc-b9ad-4769-8c92-a6c4dae69d19",
    "_uuid": "8f2839f25d086af736a60e9eeb907d3b93b6e0e5",
    "execution": {
     "iopub.execute_input": "2025-09-08T17:19:33.357771Z",
     "iopub.status.busy": "2025-09-08T17:19:33.357392Z",
     "iopub.status.idle": "2025-09-08T17:19:35.299862Z",
     "shell.execute_reply": "2025-09-08T17:19:35.298661Z"
    },
    "papermill": {
     "duration": 1.95211,
     "end_time": "2025-09-08T17:19:35.301800",
     "exception": false,
     "start_time": "2025-09-08T17:19:33.349690",
     "status": "completed"
    },
    "tags": []
   },
   "outputs": [
    {
     "ename": "ModuleNotFoundError",
     "evalue": "No module named 'numpy'",
     "output_type": "error",
     "traceback": [
      "\u001b[31m---------------------------------------------------------------------------\u001b[39m",
      "\u001b[31mModuleNotFoundError\u001b[39m                       Traceback (most recent call last)",
      "\u001b[36mCell\u001b[39m\u001b[36m \u001b[39m\u001b[32mIn[6]\u001b[39m\u001b[32m, line 5\u001b[39m\n\u001b[32m      1\u001b[39m \u001b[38;5;66;03m# This Python 3 environment comes with many helpful analytics libraries installed\u001b[39;00m\n\u001b[32m      2\u001b[39m \u001b[38;5;66;03m# It is defined by the kaggle/python Docker image: https://github.com/kaggle/docker-python\u001b[39;00m\n\u001b[32m      3\u001b[39m \u001b[38;5;66;03m# For example, here's several helpful packages to load\u001b[39;00m\n\u001b[32m----> \u001b[39m\u001b[32m5\u001b[39m \u001b[38;5;28;01mimport\u001b[39;00m\u001b[38;5;250m \u001b[39m\u001b[34;01mnumpy\u001b[39;00m\u001b[38;5;250m \u001b[39m\u001b[38;5;28;01mas\u001b[39;00m\u001b[38;5;250m \u001b[39m\u001b[34;01mnp\u001b[39;00m \u001b[38;5;66;03m# linear algebra\u001b[39;00m\n\u001b[32m      6\u001b[39m \u001b[38;5;28;01mimport\u001b[39;00m\u001b[38;5;250m \u001b[39m\u001b[34;01mpandas\u001b[39;00m\u001b[38;5;250m \u001b[39m\u001b[38;5;28;01mas\u001b[39;00m\u001b[38;5;250m \u001b[39m\u001b[34;01mpd\u001b[39;00m \u001b[38;5;66;03m# data processing, CSV file I/O (e.g. pd.read_csv)\u001b[39;00m\n\u001b[32m      8\u001b[39m \u001b[38;5;66;03m# Input data files are available in the read-only \"../input/\" directory\u001b[39;00m\n\u001b[32m      9\u001b[39m \u001b[38;5;66;03m# For example, running this (by clicking run or pressing Shift+Enter) will list all files under the input directory\u001b[39;00m\n",
      "\u001b[31mModuleNotFoundError\u001b[39m: No module named 'numpy'"
     ]
    }
   ],
   "source": [
    "# This Python 3 environment comes with many helpful analytics libraries installed\n",
    "# It is defined by the kaggle/python Docker image: https://github.com/kaggle/docker-python\n",
    "# For example, here's several helpful packages to load\n",
    "\n",
    "import numpy as np # linear algebra\n",
    "import pandas as pd # data processing, CSV file I/O (e.g. pd.read_csv)\n",
    "\n",
    "# Input data files are available in the read-only \"../input/\" directory\n",
    "# For example, running this (by clicking run or pressing Shift+Enter) will list all files under the input directory\n",
    "\n",
    "import os\n",
    "for dirname, _, filenames in os.walk('/kaggle/input'):\n",
    "    for filename in filenames:\n",
    "        print(os.path.join(dirname, filename))\n",
    "\n",
    "# You can write up to 20GB to the current directory (/kaggle/working/) that gets preserved as output when you create a version using \"Save & Run All\" \n",
    "# You can also write temporary files to /kaggle/temp/, but they won't be saved outside of the current session"
   ]
  },
  {
   "cell_type": "code",
   "execution_count": null,
   "id": "1625912f",
   "metadata": {
    "execution": {
     "iopub.execute_input": "2025-09-08T17:19:35.314563Z",
     "iopub.status.busy": "2025-09-08T17:19:35.314035Z",
     "iopub.status.idle": "2025-09-08T17:19:37.111134Z",
     "shell.execute_reply": "2025-09-08T17:19:37.110244Z"
    },
    "papermill": {
     "duration": 1.805571,
     "end_time": "2025-09-08T17:19:37.113081",
     "exception": false,
     "start_time": "2025-09-08T17:19:35.307510",
     "status": "completed"
    },
    "tags": []
   },
   "outputs": [],
   "source": [
    "import pandas as pd\n",
    "import numpy as np\n",
    "from sklearn.model_selection import StratifiedShuffleSplit,train_test_split,cross_val_score\n",
    "from sklearn.compose import ColumnTransformer\n",
    "from sklearn.impute import SimpleImputer\n",
    "from sklearn.pipeline import Pipeline\n",
    "from sklearn.preprocessing import OneHotEncoder, StandardScaler\n",
    "from sklearn.ensemble import RandomForestClassifier,GradientBoostingClassifier,RandomForestRegressor,GradientBoostingRegressor\n",
    "from sklearn.linear_model import LinearRegression\n",
    "from sklearn.metrics import accuracy_score,confusion_matrix,classification_report,mean_squared_error"
   ]
  },
  {
   "cell_type": "code",
   "execution_count": null,
   "id": "23abcc7e",
   "metadata": {
    "execution": {
     "iopub.execute_input": "2025-09-08T17:19:37.125063Z",
     "iopub.status.busy": "2025-09-08T17:19:37.124503Z",
     "iopub.status.idle": "2025-09-08T17:19:37.172926Z",
     "shell.execute_reply": "2025-09-08T17:19:37.171950Z"
    },
    "papermill": {
     "duration": 0.056431,
     "end_time": "2025-09-08T17:19:37.174781",
     "exception": false,
     "start_time": "2025-09-08T17:19:37.118350",
     "status": "completed"
    },
    "tags": []
   },
   "outputs": [],
   "source": [
    "#Imports the titanic dataset\n",
    "df=pd.read_csv('/kaggle/input/titanic-dataset/Titanic-Dataset.csv')\n",
    "#Dropping NaN values in embarked cause they are only few unlike cabin\n",
    "df=df.dropna(subset=['Embarked'])\n",
    "df_labels=df['Survived']\n",
    "df_cat=df[['Sex','Pclass','Cabin','Embarked']].copy()\n",
    "df_num=df.drop(['Sex','Pclass','Name','Cabin','Embarked'],axis=1)\n",
    "#Instead of filling in cabin values, converting it into a boolean category \n",
    "df_cat['HasCabin']=df_cat['Cabin'].notna().astype(int)\n",
    "#Dropping Cabin because it is no longer useful.It has been replaced by HasCabin.\n",
    "df_cat=df_cat.drop(['Cabin'],axis=1)\n",
    "#People travelling together had same ticket number. Therefore converting ticket numbers into family size is more intuitive\n",
    "df_num['Family Size']=df_num['Ticket'].map(df_num['Ticket'].value_counts())\n",
    "#Dropping Tickets because its obsolete.\n",
    "df_num=df_num.drop(['Ticket','Survived'],axis=1)\n",
    "#Adding Has Cabin to the original DataFrame as well. Same with family size\n",
    "df['HasCabin']=df['Cabin'].notna().astype(int)\n",
    "df['Family Size']=df_num['Family Size']\n"
   ]
  },
  {
   "cell_type": "code",
   "execution_count": null,
   "id": "954456f0",
   "metadata": {
    "execution": {
     "iopub.execute_input": "2025-09-08T17:19:37.186187Z",
     "iopub.status.busy": "2025-09-08T17:19:37.185772Z",
     "iopub.status.idle": "2025-09-08T17:19:37.220986Z",
     "shell.execute_reply": "2025-09-08T17:19:37.219866Z"
    },
    "papermill": {
     "duration": 0.042956,
     "end_time": "2025-09-08T17:19:37.222730",
     "exception": false,
     "start_time": "2025-09-08T17:19:37.179774",
     "status": "completed"
    },
    "tags": []
   },
   "outputs": [
    {
     "name": "stderr",
     "output_type": "stream",
     "text": [
      "/usr/local/lib/python3.11/dist-packages/pandas/io/formats/format.py:1458: RuntimeWarning: invalid value encountered in greater\n",
      "  has_large_values = (abs_vals > 1e6).any()\n",
      "/usr/local/lib/python3.11/dist-packages/pandas/io/formats/format.py:1459: RuntimeWarning: invalid value encountered in less\n",
      "  has_small_values = ((abs_vals < 10 ** (-self.digits)) & (abs_vals > 0)).any()\n",
      "/usr/local/lib/python3.11/dist-packages/pandas/io/formats/format.py:1459: RuntimeWarning: invalid value encountered in greater\n",
      "  has_small_values = ((abs_vals < 10 ** (-self.digits)) & (abs_vals > 0)).any()\n"
     ]
    },
    {
     "data": {
      "text/html": [
       "<div>\n",
       "<style scoped>\n",
       "    .dataframe tbody tr th:only-of-type {\n",
       "        vertical-align: middle;\n",
       "    }\n",
       "\n",
       "    .dataframe tbody tr th {\n",
       "        vertical-align: top;\n",
       "    }\n",
       "\n",
       "    .dataframe thead th {\n",
       "        text-align: right;\n",
       "    }\n",
       "</style>\n",
       "<table border=\"1\" class=\"dataframe\">\n",
       "  <thead>\n",
       "    <tr style=\"text-align: right;\">\n",
       "      <th></th>\n",
       "      <th>PassengerId</th>\n",
       "      <th>Survived</th>\n",
       "      <th>Pclass</th>\n",
       "      <th>Name</th>\n",
       "      <th>Sex</th>\n",
       "      <th>Age</th>\n",
       "      <th>SibSp</th>\n",
       "      <th>Parch</th>\n",
       "      <th>Ticket</th>\n",
       "      <th>Fare</th>\n",
       "      <th>Cabin</th>\n",
       "      <th>Embarked</th>\n",
       "      <th>HasCabin</th>\n",
       "      <th>Family Size</th>\n",
       "    </tr>\n",
       "  </thead>\n",
       "  <tbody>\n",
       "    <tr>\n",
       "      <th>5</th>\n",
       "      <td>6</td>\n",
       "      <td>0</td>\n",
       "      <td>3</td>\n",
       "      <td>Moran, Mr. James</td>\n",
       "      <td>male</td>\n",
       "      <td>NaN</td>\n",
       "      <td>0</td>\n",
       "      <td>0</td>\n",
       "      <td>330877</td>\n",
       "      <td>8.4583</td>\n",
       "      <td>NaN</td>\n",
       "      <td>Q</td>\n",
       "      <td>0</td>\n",
       "      <td>1</td>\n",
       "    </tr>\n",
       "    <tr>\n",
       "      <th>17</th>\n",
       "      <td>18</td>\n",
       "      <td>1</td>\n",
       "      <td>2</td>\n",
       "      <td>Williams, Mr. Charles Eugene</td>\n",
       "      <td>male</td>\n",
       "      <td>NaN</td>\n",
       "      <td>0</td>\n",
       "      <td>0</td>\n",
       "      <td>244373</td>\n",
       "      <td>13.0000</td>\n",
       "      <td>NaN</td>\n",
       "      <td>S</td>\n",
       "      <td>0</td>\n",
       "      <td>1</td>\n",
       "    </tr>\n",
       "    <tr>\n",
       "      <th>19</th>\n",
       "      <td>20</td>\n",
       "      <td>1</td>\n",
       "      <td>3</td>\n",
       "      <td>Masselmani, Mrs. Fatima</td>\n",
       "      <td>female</td>\n",
       "      <td>NaN</td>\n",
       "      <td>0</td>\n",
       "      <td>0</td>\n",
       "      <td>2649</td>\n",
       "      <td>7.2250</td>\n",
       "      <td>NaN</td>\n",
       "      <td>C</td>\n",
       "      <td>0</td>\n",
       "      <td>1</td>\n",
       "    </tr>\n",
       "    <tr>\n",
       "      <th>26</th>\n",
       "      <td>27</td>\n",
       "      <td>0</td>\n",
       "      <td>3</td>\n",
       "      <td>Emir, Mr. Farred Chehab</td>\n",
       "      <td>male</td>\n",
       "      <td>NaN</td>\n",
       "      <td>0</td>\n",
       "      <td>0</td>\n",
       "      <td>2631</td>\n",
       "      <td>7.2250</td>\n",
       "      <td>NaN</td>\n",
       "      <td>C</td>\n",
       "      <td>0</td>\n",
       "      <td>1</td>\n",
       "    </tr>\n",
       "    <tr>\n",
       "      <th>28</th>\n",
       "      <td>29</td>\n",
       "      <td>1</td>\n",
       "      <td>3</td>\n",
       "      <td>O'Dwyer, Miss. Ellen \"Nellie\"</td>\n",
       "      <td>female</td>\n",
       "      <td>NaN</td>\n",
       "      <td>0</td>\n",
       "      <td>0</td>\n",
       "      <td>330959</td>\n",
       "      <td>7.8792</td>\n",
       "      <td>NaN</td>\n",
       "      <td>Q</td>\n",
       "      <td>0</td>\n",
       "      <td>1</td>\n",
       "    </tr>\n",
       "  </tbody>\n",
       "</table>\n",
       "</div>"
      ],
      "text/plain": [
       "    PassengerId  Survived  Pclass                           Name     Sex  Age  \\\n",
       "5             6         0       3               Moran, Mr. James    male  NaN   \n",
       "17           18         1       2   Williams, Mr. Charles Eugene    male  NaN   \n",
       "19           20         1       3        Masselmani, Mrs. Fatima  female  NaN   \n",
       "26           27         0       3        Emir, Mr. Farred Chehab    male  NaN   \n",
       "28           29         1       3  O'Dwyer, Miss. Ellen \"Nellie\"  female  NaN   \n",
       "\n",
       "    SibSp  Parch  Ticket     Fare Cabin Embarked  HasCabin  Family Size  \n",
       "5       0      0  330877   8.4583   NaN        Q         0            1  \n",
       "17      0      0  244373  13.0000   NaN        S         0            1  \n",
       "19      0      0    2649   7.2250   NaN        C         0            1  \n",
       "26      0      0    2631   7.2250   NaN        C         0            1  \n",
       "28      0      0  330959   7.8792   NaN        Q         0            1  "
      ]
     },
     "execution_count": 4,
     "metadata": {},
     "output_type": "execute_result"
    }
   ],
   "source": [
    "#Training another machine learning model to predict Age \n",
    "df_age=df.dropna(subset=['Age'])\n",
    "age_df_num=df_num.dropna(subset=['Age']).drop(['Age'],axis=1)#dropped Na values of age first to match df_age(in terms of the no of rows)\n",
    "df_missing=df[df['Age'].isna()]\n",
    "df_lables_age=df_age['Age']\n",
    "df_missing.head()"
   ]
  },
  {
   "cell_type": "code",
   "execution_count": null,
   "id": "b37469d7",
   "metadata": {
    "execution": {
     "iopub.execute_input": "2025-09-08T17:19:37.235122Z",
     "iopub.status.busy": "2025-09-08T17:19:37.234553Z",
     "iopub.status.idle": "2025-09-08T17:19:37.239550Z",
     "shell.execute_reply": "2025-09-08T17:19:37.238617Z"
    },
    "papermill": {
     "duration": 0.012895,
     "end_time": "2025-09-08T17:19:37.241100",
     "exception": false,
     "start_time": "2025-09-08T17:19:37.228205",
     "status": "completed"
    },
    "tags": []
   },
   "outputs": [],
   "source": [
    "cat_encoder=OneHotEncoder()"
   ]
  },
  {
   "cell_type": "code",
   "execution_count": null,
   "id": "f057df54",
   "metadata": {
    "execution": {
     "iopub.execute_input": "2025-09-08T17:19:37.254077Z",
     "iopub.status.busy": "2025-09-08T17:19:37.253385Z",
     "iopub.status.idle": "2025-09-08T17:19:37.258147Z",
     "shell.execute_reply": "2025-09-08T17:19:37.257253Z"
    },
    "papermill": {
     "duration": 0.01318,
     "end_time": "2025-09-08T17:19:37.259698",
     "exception": false,
     "start_time": "2025-09-08T17:19:37.246518",
     "status": "completed"
    },
    "tags": []
   },
   "outputs": [],
   "source": [
    "df_num_pipe=Pipeline([\n",
    "    ('imputer',SimpleImputer(strategy='median')),\n",
    "    ('std_scaler', StandardScaler())\n",
    "])"
   ]
  },
  {
   "cell_type": "code",
   "execution_count": null,
   "id": "b72c4532",
   "metadata": {
    "execution": {
     "iopub.execute_input": "2025-09-08T17:19:37.272564Z",
     "iopub.status.busy": "2025-09-08T17:19:37.272221Z",
     "iopub.status.idle": "2025-09-08T17:19:37.292049Z",
     "shell.execute_reply": "2025-09-08T17:19:37.291005Z"
    },
    "papermill": {
     "duration": 0.028946,
     "end_time": "2025-09-08T17:19:37.293947",
     "exception": false,
     "start_time": "2025-09-08T17:19:37.265001",
     "status": "completed"
    },
    "tags": []
   },
   "outputs": [],
   "source": [
    "#Final Pipeline for cleaning the titanic dataset without the age parameter\n",
    "num_attrbs=list(age_df_num) \n",
    "cat_attrbs=list(df_cat) \n",
    "final_pipeline_age=ColumnTransformer([\n",
    "    ('num',df_num_pipe,num_attrbs), \n",
    "    ('cat',cat_encoder,cat_attrbs)]) \n",
    "df_final_age=final_pipeline_age.fit_transform(df_age)"
   ]
  },
  {
   "cell_type": "code",
   "execution_count": null,
   "id": "e6781ec5",
   "metadata": {
    "execution": {
     "iopub.execute_input": "2025-09-08T17:19:37.306988Z",
     "iopub.status.busy": "2025-09-08T17:19:37.305779Z",
     "iopub.status.idle": "2025-09-08T17:19:37.312272Z",
     "shell.execute_reply": "2025-09-08T17:19:37.311242Z"
    },
    "papermill": {
     "duration": 0.014711,
     "end_time": "2025-09-08T17:19:37.314005",
     "exception": false,
     "start_time": "2025-09-08T17:19:37.299294",
     "status": "completed"
    },
    "tags": []
   },
   "outputs": [],
   "source": [
    "#Final Pipeline for cleaning the titanic dataset\n",
    "# Function to handle both versions of the dataset: with or without Age\n",
    "def pipeline(df_num,df_cat,df,age=True):\n",
    "    num_attrbs=list(df_num) \n",
    "    if age:\n",
    "        num_attrbs=['Age']+list(df_num)\n",
    "    cat_attrbs=list(df_cat) \n",
    "    final_pipeline=ColumnTransformer([\n",
    "        ('num',df_num_pipe,num_attrbs), \n",
    "        ('cat',cat_encoder,cat_attrbs)]) \n",
    "    return final_pipeline.fit_transform(df)"
   ]
  },
  {
   "cell_type": "code",
   "execution_count": null,
   "id": "edbd86a0",
   "metadata": {
    "execution": {
     "iopub.execute_input": "2025-09-08T17:19:37.326043Z",
     "iopub.status.busy": "2025-09-08T17:19:37.325620Z",
     "iopub.status.idle": "2025-09-08T17:19:37.342564Z",
     "shell.execute_reply": "2025-09-08T17:19:37.341635Z"
    },
    "papermill": {
     "duration": 0.024881,
     "end_time": "2025-09-08T17:19:37.344404",
     "exception": false,
     "start_time": "2025-09-08T17:19:37.319523",
     "status": "completed"
    },
    "tags": []
   },
   "outputs": [],
   "source": [
    "df_final=pipeline(df_num,df_cat,df,False)"
   ]
  },
  {
   "cell_type": "code",
   "execution_count": null,
   "id": "4916b580",
   "metadata": {
    "execution": {
     "iopub.execute_input": "2025-09-08T17:19:37.356562Z",
     "iopub.status.busy": "2025-09-08T17:19:37.355681Z",
     "iopub.status.idle": "2025-09-08T17:19:37.362070Z",
     "shell.execute_reply": "2025-09-08T17:19:37.361370Z"
    },
    "papermill": {
     "duration": 0.013855,
     "end_time": "2025-09-08T17:19:37.363530",
     "exception": false,
     "start_time": "2025-09-08T17:19:37.349675",
     "status": "completed"
    },
    "tags": []
   },
   "outputs": [],
   "source": [
    "#train_test_split for the regression model\n",
    "x_train_age, x_test_age, y_train_age, y_test_age = train_test_split(\n",
    "    df_final_age, \n",
    "    df_lables_age, \n",
    "    test_size=0.2, \n",
    "    random_state=42\n",
    ")"
   ]
  },
  {
   "cell_type": "code",
   "execution_count": null,
   "id": "02cf13d6",
   "metadata": {
    "execution": {
     "iopub.execute_input": "2025-09-08T17:19:37.375453Z",
     "iopub.status.busy": "2025-09-08T17:19:37.374561Z",
     "iopub.status.idle": "2025-09-08T17:19:37.383941Z",
     "shell.execute_reply": "2025-09-08T17:19:37.383185Z"
    },
    "papermill": {
     "duration": 0.016894,
     "end_time": "2025-09-08T17:19:37.385469",
     "exception": false,
     "start_time": "2025-09-08T17:19:37.368575",
     "status": "completed"
    },
    "tags": []
   },
   "outputs": [],
   "source": [
    "#Splits the dataset for training and testing purposes\n",
    "split=StratifiedShuffleSplit(n_splits=1,test_size=0.2,random_state=42)\n",
    "for train_index, test_index in split.split(df_final, df_labels):\n",
    "    x_train, x_test = df_final[train_index], df_final[test_index]\n",
    "    y_train, y_test = df_labels.iloc[train_index], df_labels.iloc[test_index]"
   ]
  },
  {
   "cell_type": "code",
   "execution_count": null,
   "id": "6991def4",
   "metadata": {
    "execution": {
     "iopub.execute_input": "2025-09-08T17:19:37.397841Z",
     "iopub.status.busy": "2025-09-08T17:19:37.397101Z",
     "iopub.status.idle": "2025-09-08T17:19:37.666631Z",
     "shell.execute_reply": "2025-09-08T17:19:37.665649Z"
    },
    "papermill": {
     "duration": 0.277572,
     "end_time": "2025-09-08T17:19:37.668357",
     "exception": false,
     "start_time": "2025-09-08T17:19:37.390785",
     "status": "completed"
    },
    "tags": []
   },
   "outputs": [
    {
     "data": {
      "text/html": [
       "<style>#sk-container-id-1 {color: black;background-color: white;}#sk-container-id-1 pre{padding: 0;}#sk-container-id-1 div.sk-toggleable {background-color: white;}#sk-container-id-1 label.sk-toggleable__label {cursor: pointer;display: block;width: 100%;margin-bottom: 0;padding: 0.3em;box-sizing: border-box;text-align: center;}#sk-container-id-1 label.sk-toggleable__label-arrow:before {content: \"▸\";float: left;margin-right: 0.25em;color: #696969;}#sk-container-id-1 label.sk-toggleable__label-arrow:hover:before {color: black;}#sk-container-id-1 div.sk-estimator:hover label.sk-toggleable__label-arrow:before {color: black;}#sk-container-id-1 div.sk-toggleable__content {max-height: 0;max-width: 0;overflow: hidden;text-align: left;background-color: #f0f8ff;}#sk-container-id-1 div.sk-toggleable__content pre {margin: 0.2em;color: black;border-radius: 0.25em;background-color: #f0f8ff;}#sk-container-id-1 input.sk-toggleable__control:checked~div.sk-toggleable__content {max-height: 200px;max-width: 100%;overflow: auto;}#sk-container-id-1 input.sk-toggleable__control:checked~label.sk-toggleable__label-arrow:before {content: \"▾\";}#sk-container-id-1 div.sk-estimator input.sk-toggleable__control:checked~label.sk-toggleable__label {background-color: #d4ebff;}#sk-container-id-1 div.sk-label input.sk-toggleable__control:checked~label.sk-toggleable__label {background-color: #d4ebff;}#sk-container-id-1 input.sk-hidden--visually {border: 0;clip: rect(1px 1px 1px 1px);clip: rect(1px, 1px, 1px, 1px);height: 1px;margin: -1px;overflow: hidden;padding: 0;position: absolute;width: 1px;}#sk-container-id-1 div.sk-estimator {font-family: monospace;background-color: #f0f8ff;border: 1px dotted black;border-radius: 0.25em;box-sizing: border-box;margin-bottom: 0.5em;}#sk-container-id-1 div.sk-estimator:hover {background-color: #d4ebff;}#sk-container-id-1 div.sk-parallel-item::after {content: \"\";width: 100%;border-bottom: 1px solid gray;flex-grow: 1;}#sk-container-id-1 div.sk-label:hover label.sk-toggleable__label {background-color: #d4ebff;}#sk-container-id-1 div.sk-serial::before {content: \"\";position: absolute;border-left: 1px solid gray;box-sizing: border-box;top: 0;bottom: 0;left: 50%;z-index: 0;}#sk-container-id-1 div.sk-serial {display: flex;flex-direction: column;align-items: center;background-color: white;padding-right: 0.2em;padding-left: 0.2em;position: relative;}#sk-container-id-1 div.sk-item {position: relative;z-index: 1;}#sk-container-id-1 div.sk-parallel {display: flex;align-items: stretch;justify-content: center;background-color: white;position: relative;}#sk-container-id-1 div.sk-item::before, #sk-container-id-1 div.sk-parallel-item::before {content: \"\";position: absolute;border-left: 1px solid gray;box-sizing: border-box;top: 0;bottom: 0;left: 50%;z-index: -1;}#sk-container-id-1 div.sk-parallel-item {display: flex;flex-direction: column;z-index: 1;position: relative;background-color: white;}#sk-container-id-1 div.sk-parallel-item:first-child::after {align-self: flex-end;width: 50%;}#sk-container-id-1 div.sk-parallel-item:last-child::after {align-self: flex-start;width: 50%;}#sk-container-id-1 div.sk-parallel-item:only-child::after {width: 0;}#sk-container-id-1 div.sk-dashed-wrapped {border: 1px dashed gray;margin: 0 0.4em 0.5em 0.4em;box-sizing: border-box;padding-bottom: 0.4em;background-color: white;}#sk-container-id-1 div.sk-label label {font-family: monospace;font-weight: bold;display: inline-block;line-height: 1.2em;}#sk-container-id-1 div.sk-label-container {text-align: center;}#sk-container-id-1 div.sk-container {/* jupyter's `normalize.less` sets `[hidden] { display: none; }` but bootstrap.min.css set `[hidden] { display: none !important; }` so we also need the `!important` here to be able to override the default hidden behavior on the sphinx rendered scikit-learn.org. See: https://github.com/scikit-learn/scikit-learn/issues/21755 */display: inline-block !important;position: relative;}#sk-container-id-1 div.sk-text-repr-fallback {display: none;}</style><div id=\"sk-container-id-1\" class=\"sk-top-container\"><div class=\"sk-text-repr-fallback\"><pre>RandomForestRegressor()</pre><b>In a Jupyter environment, please rerun this cell to show the HTML representation or trust the notebook. <br />On GitHub, the HTML representation is unable to render, please try loading this page with nbviewer.org.</b></div><div class=\"sk-container\" hidden><div class=\"sk-item\"><div class=\"sk-estimator sk-toggleable\"><input class=\"sk-toggleable__control sk-hidden--visually\" id=\"sk-estimator-id-1\" type=\"checkbox\" checked><label for=\"sk-estimator-id-1\" class=\"sk-toggleable__label sk-toggleable__label-arrow\">RandomForestRegressor</label><div class=\"sk-toggleable__content\"><pre>RandomForestRegressor()</pre></div></div></div></div></div>"
      ],
      "text/plain": [
       "RandomForestRegressor()"
      ]
     },
     "execution_count": 12,
     "metadata": {},
     "output_type": "execute_result"
    }
   ],
   "source": [
    "for_reg=RandomForestRegressor()\n",
    "for_reg.fit(x_train_age,y_train_age)"
   ]
  },
  {
   "cell_type": "code",
   "execution_count": null,
   "id": "e6de17c3",
   "metadata": {
    "execution": {
     "iopub.execute_input": "2025-09-08T17:19:37.681422Z",
     "iopub.status.busy": "2025-09-08T17:19:37.681053Z",
     "iopub.status.idle": "2025-09-08T17:19:39.096649Z",
     "shell.execute_reply": "2025-09-08T17:19:39.095635Z"
    },
    "papermill": {
     "duration": 1.424158,
     "end_time": "2025-09-08T17:19:39.098325",
     "exception": false,
     "start_time": "2025-09-08T17:19:37.674167",
     "status": "completed"
    },
    "tags": []
   },
   "outputs": [
    {
     "name": "stdout",
     "output_type": "stream",
     "text": [
      "\n",
      "rmse:13.679744758982498\n",
      "scoring:[14.94376124 16.24192445 16.23095222 12.61905638 18.36405831 14.3629373\n",
      " 14.38789149 18.98763084 12.98546069 14.28016069]\n"
     ]
    }
   ],
   "source": [
    "predictions_age=for_reg.predict(x_test_age)\n",
    "mse=mean_squared_error(y_test_age,predictions_age)\n",
    "rmse=np.sqrt(mse)\n",
    "cvs=cross_val_score(for_reg,x_test_age,y_test_age,scoring='neg_mean_squared_error',cv=10)\n",
    "rmse_scores=np.sqrt(-cvs)\n",
    "print(f'''\n",
    "rmse:{rmse}\n",
    "scoring:{rmse_scores}''')"
   ]
  },
  {
   "cell_type": "code",
   "execution_count": null,
   "id": "5b4763cd",
   "metadata": {
    "execution": {
     "iopub.execute_input": "2025-09-08T17:19:39.114443Z",
     "iopub.status.busy": "2025-09-08T17:19:39.113481Z",
     "iopub.status.idle": "2025-09-08T17:19:39.213670Z",
     "shell.execute_reply": "2025-09-08T17:19:39.212651Z"
    },
    "papermill": {
     "duration": 0.109009,
     "end_time": "2025-09-08T17:19:39.215345",
     "exception": false,
     "start_time": "2025-09-08T17:19:39.106336",
     "status": "completed"
    },
    "tags": []
   },
   "outputs": [
    {
     "data": {
      "text/html": [
       "<style>#sk-container-id-2 {color: black;background-color: white;}#sk-container-id-2 pre{padding: 0;}#sk-container-id-2 div.sk-toggleable {background-color: white;}#sk-container-id-2 label.sk-toggleable__label {cursor: pointer;display: block;width: 100%;margin-bottom: 0;padding: 0.3em;box-sizing: border-box;text-align: center;}#sk-container-id-2 label.sk-toggleable__label-arrow:before {content: \"▸\";float: left;margin-right: 0.25em;color: #696969;}#sk-container-id-2 label.sk-toggleable__label-arrow:hover:before {color: black;}#sk-container-id-2 div.sk-estimator:hover label.sk-toggleable__label-arrow:before {color: black;}#sk-container-id-2 div.sk-toggleable__content {max-height: 0;max-width: 0;overflow: hidden;text-align: left;background-color: #f0f8ff;}#sk-container-id-2 div.sk-toggleable__content pre {margin: 0.2em;color: black;border-radius: 0.25em;background-color: #f0f8ff;}#sk-container-id-2 input.sk-toggleable__control:checked~div.sk-toggleable__content {max-height: 200px;max-width: 100%;overflow: auto;}#sk-container-id-2 input.sk-toggleable__control:checked~label.sk-toggleable__label-arrow:before {content: \"▾\";}#sk-container-id-2 div.sk-estimator input.sk-toggleable__control:checked~label.sk-toggleable__label {background-color: #d4ebff;}#sk-container-id-2 div.sk-label input.sk-toggleable__control:checked~label.sk-toggleable__label {background-color: #d4ebff;}#sk-container-id-2 input.sk-hidden--visually {border: 0;clip: rect(1px 1px 1px 1px);clip: rect(1px, 1px, 1px, 1px);height: 1px;margin: -1px;overflow: hidden;padding: 0;position: absolute;width: 1px;}#sk-container-id-2 div.sk-estimator {font-family: monospace;background-color: #f0f8ff;border: 1px dotted black;border-radius: 0.25em;box-sizing: border-box;margin-bottom: 0.5em;}#sk-container-id-2 div.sk-estimator:hover {background-color: #d4ebff;}#sk-container-id-2 div.sk-parallel-item::after {content: \"\";width: 100%;border-bottom: 1px solid gray;flex-grow: 1;}#sk-container-id-2 div.sk-label:hover label.sk-toggleable__label {background-color: #d4ebff;}#sk-container-id-2 div.sk-serial::before {content: \"\";position: absolute;border-left: 1px solid gray;box-sizing: border-box;top: 0;bottom: 0;left: 50%;z-index: 0;}#sk-container-id-2 div.sk-serial {display: flex;flex-direction: column;align-items: center;background-color: white;padding-right: 0.2em;padding-left: 0.2em;position: relative;}#sk-container-id-2 div.sk-item {position: relative;z-index: 1;}#sk-container-id-2 div.sk-parallel {display: flex;align-items: stretch;justify-content: center;background-color: white;position: relative;}#sk-container-id-2 div.sk-item::before, #sk-container-id-2 div.sk-parallel-item::before {content: \"\";position: absolute;border-left: 1px solid gray;box-sizing: border-box;top: 0;bottom: 0;left: 50%;z-index: -1;}#sk-container-id-2 div.sk-parallel-item {display: flex;flex-direction: column;z-index: 1;position: relative;background-color: white;}#sk-container-id-2 div.sk-parallel-item:first-child::after {align-self: flex-end;width: 50%;}#sk-container-id-2 div.sk-parallel-item:last-child::after {align-self: flex-start;width: 50%;}#sk-container-id-2 div.sk-parallel-item:only-child::after {width: 0;}#sk-container-id-2 div.sk-dashed-wrapped {border: 1px dashed gray;margin: 0 0.4em 0.5em 0.4em;box-sizing: border-box;padding-bottom: 0.4em;background-color: white;}#sk-container-id-2 div.sk-label label {font-family: monospace;font-weight: bold;display: inline-block;line-height: 1.2em;}#sk-container-id-2 div.sk-label-container {text-align: center;}#sk-container-id-2 div.sk-container {/* jupyter's `normalize.less` sets `[hidden] { display: none; }` but bootstrap.min.css set `[hidden] { display: none !important; }` so we also need the `!important` here to be able to override the default hidden behavior on the sphinx rendered scikit-learn.org. See: https://github.com/scikit-learn/scikit-learn/issues/21755 */display: inline-block !important;position: relative;}#sk-container-id-2 div.sk-text-repr-fallback {display: none;}</style><div id=\"sk-container-id-2\" class=\"sk-top-container\"><div class=\"sk-text-repr-fallback\"><pre>GradientBoostingRegressor()</pre><b>In a Jupyter environment, please rerun this cell to show the HTML representation or trust the notebook. <br />On GitHub, the HTML representation is unable to render, please try loading this page with nbviewer.org.</b></div><div class=\"sk-container\" hidden><div class=\"sk-item\"><div class=\"sk-estimator sk-toggleable\"><input class=\"sk-toggleable__control sk-hidden--visually\" id=\"sk-estimator-id-2\" type=\"checkbox\" checked><label for=\"sk-estimator-id-2\" class=\"sk-toggleable__label sk-toggleable__label-arrow\">GradientBoostingRegressor</label><div class=\"sk-toggleable__content\"><pre>GradientBoostingRegressor()</pre></div></div></div></div></div>"
      ],
      "text/plain": [
       "GradientBoostingRegressor()"
      ]
     },
     "execution_count": 14,
     "metadata": {},
     "output_type": "execute_result"
    }
   ],
   "source": [
    "gr_reg=GradientBoostingRegressor()\n",
    "gr_reg.fit(x_train_age,y_train_age)"
   ]
  },
  {
   "cell_type": "code",
   "execution_count": null,
   "id": "da10e334",
   "metadata": {
    "execution": {
     "iopub.execute_input": "2025-09-08T17:19:39.228246Z",
     "iopub.status.busy": "2025-09-08T17:19:39.227825Z",
     "iopub.status.idle": "2025-09-08T17:19:39.868163Z",
     "shell.execute_reply": "2025-09-08T17:19:39.866844Z"
    },
    "papermill": {
     "duration": 0.648787,
     "end_time": "2025-09-08T17:19:39.869989",
     "exception": false,
     "start_time": "2025-09-08T17:19:39.221202",
     "status": "completed"
    },
    "tags": []
   },
   "outputs": [
    {
     "name": "stdout",
     "output_type": "stream",
     "text": [
      "\n",
      "rmse:13.614491360533881\n",
      "scoring:[16.09004753 16.96802859 16.90309807 13.4398546  18.88734987 18.20417232\n",
      " 12.01645945 20.3589044  15.45844769 15.352321  ]\n"
     ]
    }
   ],
   "source": [
    "predictions_age=gr_reg.predict(x_test_age)\n",
    "mse=mean_squared_error(y_test_age,predictions_age)\n",
    "rmse=np.sqrt(mse)\n",
    "cvs=cross_val_score(gr_reg,x_test_age,y_test_age,scoring='neg_mean_squared_error',cv=10)\n",
    "rmse_scores=np.sqrt(-cvs)\n",
    "print(f'''\n",
    "rmse:{rmse}\n",
    "scoring:{rmse_scores}''')"
   ]
  },
  {
   "cell_type": "code",
   "execution_count": null,
   "id": "a81788be",
   "metadata": {
    "execution": {
     "iopub.execute_input": "2025-09-08T17:19:39.883543Z",
     "iopub.status.busy": "2025-09-08T17:19:39.883179Z",
     "iopub.status.idle": "2025-09-08T17:19:39.910292Z",
     "shell.execute_reply": "2025-09-08T17:19:39.909254Z"
    },
    "papermill": {
     "duration": 0.035833,
     "end_time": "2025-09-08T17:19:39.912053",
     "exception": false,
     "start_time": "2025-09-08T17:19:39.876220",
     "status": "completed"
    },
    "tags": []
   },
   "outputs": [
    {
     "data": {
      "text/html": [
       "<style>#sk-container-id-3 {color: black;background-color: white;}#sk-container-id-3 pre{padding: 0;}#sk-container-id-3 div.sk-toggleable {background-color: white;}#sk-container-id-3 label.sk-toggleable__label {cursor: pointer;display: block;width: 100%;margin-bottom: 0;padding: 0.3em;box-sizing: border-box;text-align: center;}#sk-container-id-3 label.sk-toggleable__label-arrow:before {content: \"▸\";float: left;margin-right: 0.25em;color: #696969;}#sk-container-id-3 label.sk-toggleable__label-arrow:hover:before {color: black;}#sk-container-id-3 div.sk-estimator:hover label.sk-toggleable__label-arrow:before {color: black;}#sk-container-id-3 div.sk-toggleable__content {max-height: 0;max-width: 0;overflow: hidden;text-align: left;background-color: #f0f8ff;}#sk-container-id-3 div.sk-toggleable__content pre {margin: 0.2em;color: black;border-radius: 0.25em;background-color: #f0f8ff;}#sk-container-id-3 input.sk-toggleable__control:checked~div.sk-toggleable__content {max-height: 200px;max-width: 100%;overflow: auto;}#sk-container-id-3 input.sk-toggleable__control:checked~label.sk-toggleable__label-arrow:before {content: \"▾\";}#sk-container-id-3 div.sk-estimator input.sk-toggleable__control:checked~label.sk-toggleable__label {background-color: #d4ebff;}#sk-container-id-3 div.sk-label input.sk-toggleable__control:checked~label.sk-toggleable__label {background-color: #d4ebff;}#sk-container-id-3 input.sk-hidden--visually {border: 0;clip: rect(1px 1px 1px 1px);clip: rect(1px, 1px, 1px, 1px);height: 1px;margin: -1px;overflow: hidden;padding: 0;position: absolute;width: 1px;}#sk-container-id-3 div.sk-estimator {font-family: monospace;background-color: #f0f8ff;border: 1px dotted black;border-radius: 0.25em;box-sizing: border-box;margin-bottom: 0.5em;}#sk-container-id-3 div.sk-estimator:hover {background-color: #d4ebff;}#sk-container-id-3 div.sk-parallel-item::after {content: \"\";width: 100%;border-bottom: 1px solid gray;flex-grow: 1;}#sk-container-id-3 div.sk-label:hover label.sk-toggleable__label {background-color: #d4ebff;}#sk-container-id-3 div.sk-serial::before {content: \"\";position: absolute;border-left: 1px solid gray;box-sizing: border-box;top: 0;bottom: 0;left: 50%;z-index: 0;}#sk-container-id-3 div.sk-serial {display: flex;flex-direction: column;align-items: center;background-color: white;padding-right: 0.2em;padding-left: 0.2em;position: relative;}#sk-container-id-3 div.sk-item {position: relative;z-index: 1;}#sk-container-id-3 div.sk-parallel {display: flex;align-items: stretch;justify-content: center;background-color: white;position: relative;}#sk-container-id-3 div.sk-item::before, #sk-container-id-3 div.sk-parallel-item::before {content: \"\";position: absolute;border-left: 1px solid gray;box-sizing: border-box;top: 0;bottom: 0;left: 50%;z-index: -1;}#sk-container-id-3 div.sk-parallel-item {display: flex;flex-direction: column;z-index: 1;position: relative;background-color: white;}#sk-container-id-3 div.sk-parallel-item:first-child::after {align-self: flex-end;width: 50%;}#sk-container-id-3 div.sk-parallel-item:last-child::after {align-self: flex-start;width: 50%;}#sk-container-id-3 div.sk-parallel-item:only-child::after {width: 0;}#sk-container-id-3 div.sk-dashed-wrapped {border: 1px dashed gray;margin: 0 0.4em 0.5em 0.4em;box-sizing: border-box;padding-bottom: 0.4em;background-color: white;}#sk-container-id-3 div.sk-label label {font-family: monospace;font-weight: bold;display: inline-block;line-height: 1.2em;}#sk-container-id-3 div.sk-label-container {text-align: center;}#sk-container-id-3 div.sk-container {/* jupyter's `normalize.less` sets `[hidden] { display: none; }` but bootstrap.min.css set `[hidden] { display: none !important; }` so we also need the `!important` here to be able to override the default hidden behavior on the sphinx rendered scikit-learn.org. See: https://github.com/scikit-learn/scikit-learn/issues/21755 */display: inline-block !important;position: relative;}#sk-container-id-3 div.sk-text-repr-fallback {display: none;}</style><div id=\"sk-container-id-3\" class=\"sk-top-container\"><div class=\"sk-text-repr-fallback\"><pre>LinearRegression()</pre><b>In a Jupyter environment, please rerun this cell to show the HTML representation or trust the notebook. <br />On GitHub, the HTML representation is unable to render, please try loading this page with nbviewer.org.</b></div><div class=\"sk-container\" hidden><div class=\"sk-item\"><div class=\"sk-estimator sk-toggleable\"><input class=\"sk-toggleable__control sk-hidden--visually\" id=\"sk-estimator-id-3\" type=\"checkbox\" checked><label for=\"sk-estimator-id-3\" class=\"sk-toggleable__label sk-toggleable__label-arrow\">LinearRegression</label><div class=\"sk-toggleable__content\"><pre>LinearRegression()</pre></div></div></div></div></div>"
      ],
      "text/plain": [
       "LinearRegression()"
      ]
     },
     "execution_count": 16,
     "metadata": {},
     "output_type": "execute_result"
    }
   ],
   "source": [
    "lin_reg=LinearRegression()\n",
    "lin_reg.fit(x_train_age,y_train_age)"
   ]
  },
  {
   "cell_type": "code",
   "execution_count": null,
   "id": "2bea0c19",
   "metadata": {
    "execution": {
     "iopub.execute_input": "2025-09-08T17:19:39.925771Z",
     "iopub.status.busy": "2025-09-08T17:19:39.925408Z",
     "iopub.status.idle": "2025-09-08T17:19:39.962764Z",
     "shell.execute_reply": "2025-09-08T17:19:39.961627Z"
    },
    "papermill": {
     "duration": 0.046238,
     "end_time": "2025-09-08T17:19:39.964675",
     "exception": false,
     "start_time": "2025-09-08T17:19:39.918437",
     "status": "completed"
    },
    "tags": []
   },
   "outputs": [
    {
     "name": "stdout",
     "output_type": "stream",
     "text": [
      "\n",
      "rmse:14.194158192929594\n",
      "scoring:[12.32039586 15.94267612 16.37834888 14.10335964 16.18628407 14.41953773\n",
      " 13.19263706 17.21765441 12.86486702 14.46615734]\n"
     ]
    }
   ],
   "source": [
    "predictions_age=lin_reg.predict(x_test_age)\n",
    "mse=mean_squared_error(y_test_age,predictions_age)\n",
    "rmse=np.sqrt(mse)\n",
    "cvs=cross_val_score(lin_reg,x_test_age,y_test_age,scoring='neg_mean_squared_error',cv=10)\n",
    "rmse_scores=np.sqrt(-cvs)\n",
    "print(f'''\n",
    "rmse:{rmse}\n",
    "scoring:{rmse_scores}''')"
   ]
  },
  {
   "cell_type": "code",
   "execution_count": null,
   "id": "42905054",
   "metadata": {
    "execution": {
     "iopub.execute_input": "2025-09-08T17:19:39.978751Z",
     "iopub.status.busy": "2025-09-08T17:19:39.978379Z",
     "iopub.status.idle": "2025-09-08T17:19:40.179931Z",
     "shell.execute_reply": "2025-09-08T17:19:40.179098Z"
    },
    "papermill": {
     "duration": 0.210655,
     "end_time": "2025-09-08T17:19:40.181697",
     "exception": false,
     "start_time": "2025-09-08T17:19:39.971042",
     "status": "completed"
    },
    "tags": []
   },
   "outputs": [
    {
     "data": {
      "text/html": [
       "<style>#sk-container-id-4 {color: black;background-color: white;}#sk-container-id-4 pre{padding: 0;}#sk-container-id-4 div.sk-toggleable {background-color: white;}#sk-container-id-4 label.sk-toggleable__label {cursor: pointer;display: block;width: 100%;margin-bottom: 0;padding: 0.3em;box-sizing: border-box;text-align: center;}#sk-container-id-4 label.sk-toggleable__label-arrow:before {content: \"▸\";float: left;margin-right: 0.25em;color: #696969;}#sk-container-id-4 label.sk-toggleable__label-arrow:hover:before {color: black;}#sk-container-id-4 div.sk-estimator:hover label.sk-toggleable__label-arrow:before {color: black;}#sk-container-id-4 div.sk-toggleable__content {max-height: 0;max-width: 0;overflow: hidden;text-align: left;background-color: #f0f8ff;}#sk-container-id-4 div.sk-toggleable__content pre {margin: 0.2em;color: black;border-radius: 0.25em;background-color: #f0f8ff;}#sk-container-id-4 input.sk-toggleable__control:checked~div.sk-toggleable__content {max-height: 200px;max-width: 100%;overflow: auto;}#sk-container-id-4 input.sk-toggleable__control:checked~label.sk-toggleable__label-arrow:before {content: \"▾\";}#sk-container-id-4 div.sk-estimator input.sk-toggleable__control:checked~label.sk-toggleable__label {background-color: #d4ebff;}#sk-container-id-4 div.sk-label input.sk-toggleable__control:checked~label.sk-toggleable__label {background-color: #d4ebff;}#sk-container-id-4 input.sk-hidden--visually {border: 0;clip: rect(1px 1px 1px 1px);clip: rect(1px, 1px, 1px, 1px);height: 1px;margin: -1px;overflow: hidden;padding: 0;position: absolute;width: 1px;}#sk-container-id-4 div.sk-estimator {font-family: monospace;background-color: #f0f8ff;border: 1px dotted black;border-radius: 0.25em;box-sizing: border-box;margin-bottom: 0.5em;}#sk-container-id-4 div.sk-estimator:hover {background-color: #d4ebff;}#sk-container-id-4 div.sk-parallel-item::after {content: \"\";width: 100%;border-bottom: 1px solid gray;flex-grow: 1;}#sk-container-id-4 div.sk-label:hover label.sk-toggleable__label {background-color: #d4ebff;}#sk-container-id-4 div.sk-serial::before {content: \"\";position: absolute;border-left: 1px solid gray;box-sizing: border-box;top: 0;bottom: 0;left: 50%;z-index: 0;}#sk-container-id-4 div.sk-serial {display: flex;flex-direction: column;align-items: center;background-color: white;padding-right: 0.2em;padding-left: 0.2em;position: relative;}#sk-container-id-4 div.sk-item {position: relative;z-index: 1;}#sk-container-id-4 div.sk-parallel {display: flex;align-items: stretch;justify-content: center;background-color: white;position: relative;}#sk-container-id-4 div.sk-item::before, #sk-container-id-4 div.sk-parallel-item::before {content: \"\";position: absolute;border-left: 1px solid gray;box-sizing: border-box;top: 0;bottom: 0;left: 50%;z-index: -1;}#sk-container-id-4 div.sk-parallel-item {display: flex;flex-direction: column;z-index: 1;position: relative;background-color: white;}#sk-container-id-4 div.sk-parallel-item:first-child::after {align-self: flex-end;width: 50%;}#sk-container-id-4 div.sk-parallel-item:last-child::after {align-self: flex-start;width: 50%;}#sk-container-id-4 div.sk-parallel-item:only-child::after {width: 0;}#sk-container-id-4 div.sk-dashed-wrapped {border: 1px dashed gray;margin: 0 0.4em 0.5em 0.4em;box-sizing: border-box;padding-bottom: 0.4em;background-color: white;}#sk-container-id-4 div.sk-label label {font-family: monospace;font-weight: bold;display: inline-block;line-height: 1.2em;}#sk-container-id-4 div.sk-label-container {text-align: center;}#sk-container-id-4 div.sk-container {/* jupyter's `normalize.less` sets `[hidden] { display: none; }` but bootstrap.min.css set `[hidden] { display: none !important; }` so we also need the `!important` here to be able to override the default hidden behavior on the sphinx rendered scikit-learn.org. See: https://github.com/scikit-learn/scikit-learn/issues/21755 */display: inline-block !important;position: relative;}#sk-container-id-4 div.sk-text-repr-fallback {display: none;}</style><div id=\"sk-container-id-4\" class=\"sk-top-container\"><div class=\"sk-text-repr-fallback\"><pre>RandomForestClassifier()</pre><b>In a Jupyter environment, please rerun this cell to show the HTML representation or trust the notebook. <br />On GitHub, the HTML representation is unable to render, please try loading this page with nbviewer.org.</b></div><div class=\"sk-container\" hidden><div class=\"sk-item\"><div class=\"sk-estimator sk-toggleable\"><input class=\"sk-toggleable__control sk-hidden--visually\" id=\"sk-estimator-id-4\" type=\"checkbox\" checked><label for=\"sk-estimator-id-4\" class=\"sk-toggleable__label sk-toggleable__label-arrow\">RandomForestClassifier</label><div class=\"sk-toggleable__content\"><pre>RandomForestClassifier()</pre></div></div></div></div></div>"
      ],
      "text/plain": [
       "RandomForestClassifier()"
      ]
     },
     "execution_count": 18,
     "metadata": {},
     "output_type": "execute_result"
    }
   ],
   "source": [
    "for_class=RandomForestClassifier()\n",
    "for_class.fit(x_train,y_train)"
   ]
  },
  {
   "cell_type": "code",
   "execution_count": null,
   "id": "27225962",
   "metadata": {
    "execution": {
     "iopub.execute_input": "2025-09-08T17:19:40.195680Z",
     "iopub.status.busy": "2025-09-08T17:19:40.195278Z",
     "iopub.status.idle": "2025-09-08T17:19:40.219613Z",
     "shell.execute_reply": "2025-09-08T17:19:40.218667Z"
    },
    "papermill": {
     "duration": 0.03329,
     "end_time": "2025-09-08T17:19:40.221438",
     "exception": false,
     "start_time": "2025-09-08T17:19:40.188148",
     "status": "completed"
    },
    "tags": []
   },
   "outputs": [
    {
     "name": "stdout",
     "output_type": "stream",
     "text": [
      "Accuracy:0.7921348314606742\n",
      "Confusion Matrix:\n",
      "[[93 17]\n",
      " [20 48]]\n",
      "Classification Report:\n",
      "              precision    recall  f1-score   support\n",
      "\n",
      "           0       0.82      0.85      0.83       110\n",
      "           1       0.74      0.71      0.72        68\n",
      "\n",
      "    accuracy                           0.79       178\n",
      "   macro avg       0.78      0.78      0.78       178\n",
      "weighted avg       0.79      0.79      0.79       178\n",
      "\n"
     ]
    }
   ],
   "source": [
    "df_predictions=for_class.predict(x_test)\n",
    "accuracy=accuracy_score(y_test,df_predictions)\n",
    "cm=confusion_matrix(y_test,df_predictions)\n",
    "report=classification_report(y_test,df_predictions)\n",
    "print(f'''Accuracy:{accuracy}\n",
    "Confusion Matrix:\n",
    "{cm}\n",
    "Classification Report:\n",
    "{report}''')"
   ]
  },
  {
   "cell_type": "code",
   "execution_count": null,
   "id": "b982db21",
   "metadata": {
    "execution": {
     "iopub.execute_input": "2025-09-08T17:19:40.235608Z",
     "iopub.status.busy": "2025-09-08T17:19:40.235214Z",
     "iopub.status.idle": "2025-09-08T17:19:40.392925Z",
     "shell.execute_reply": "2025-09-08T17:19:40.392031Z"
    },
    "papermill": {
     "duration": 0.166601,
     "end_time": "2025-09-08T17:19:40.394633",
     "exception": false,
     "start_time": "2025-09-08T17:19:40.228032",
     "status": "completed"
    },
    "tags": []
   },
   "outputs": [
    {
     "data": {
      "text/html": [
       "<style>#sk-container-id-5 {color: black;background-color: white;}#sk-container-id-5 pre{padding: 0;}#sk-container-id-5 div.sk-toggleable {background-color: white;}#sk-container-id-5 label.sk-toggleable__label {cursor: pointer;display: block;width: 100%;margin-bottom: 0;padding: 0.3em;box-sizing: border-box;text-align: center;}#sk-container-id-5 label.sk-toggleable__label-arrow:before {content: \"▸\";float: left;margin-right: 0.25em;color: #696969;}#sk-container-id-5 label.sk-toggleable__label-arrow:hover:before {color: black;}#sk-container-id-5 div.sk-estimator:hover label.sk-toggleable__label-arrow:before {color: black;}#sk-container-id-5 div.sk-toggleable__content {max-height: 0;max-width: 0;overflow: hidden;text-align: left;background-color: #f0f8ff;}#sk-container-id-5 div.sk-toggleable__content pre {margin: 0.2em;color: black;border-radius: 0.25em;background-color: #f0f8ff;}#sk-container-id-5 input.sk-toggleable__control:checked~div.sk-toggleable__content {max-height: 200px;max-width: 100%;overflow: auto;}#sk-container-id-5 input.sk-toggleable__control:checked~label.sk-toggleable__label-arrow:before {content: \"▾\";}#sk-container-id-5 div.sk-estimator input.sk-toggleable__control:checked~label.sk-toggleable__label {background-color: #d4ebff;}#sk-container-id-5 div.sk-label input.sk-toggleable__control:checked~label.sk-toggleable__label {background-color: #d4ebff;}#sk-container-id-5 input.sk-hidden--visually {border: 0;clip: rect(1px 1px 1px 1px);clip: rect(1px, 1px, 1px, 1px);height: 1px;margin: -1px;overflow: hidden;padding: 0;position: absolute;width: 1px;}#sk-container-id-5 div.sk-estimator {font-family: monospace;background-color: #f0f8ff;border: 1px dotted black;border-radius: 0.25em;box-sizing: border-box;margin-bottom: 0.5em;}#sk-container-id-5 div.sk-estimator:hover {background-color: #d4ebff;}#sk-container-id-5 div.sk-parallel-item::after {content: \"\";width: 100%;border-bottom: 1px solid gray;flex-grow: 1;}#sk-container-id-5 div.sk-label:hover label.sk-toggleable__label {background-color: #d4ebff;}#sk-container-id-5 div.sk-serial::before {content: \"\";position: absolute;border-left: 1px solid gray;box-sizing: border-box;top: 0;bottom: 0;left: 50%;z-index: 0;}#sk-container-id-5 div.sk-serial {display: flex;flex-direction: column;align-items: center;background-color: white;padding-right: 0.2em;padding-left: 0.2em;position: relative;}#sk-container-id-5 div.sk-item {position: relative;z-index: 1;}#sk-container-id-5 div.sk-parallel {display: flex;align-items: stretch;justify-content: center;background-color: white;position: relative;}#sk-container-id-5 div.sk-item::before, #sk-container-id-5 div.sk-parallel-item::before {content: \"\";position: absolute;border-left: 1px solid gray;box-sizing: border-box;top: 0;bottom: 0;left: 50%;z-index: -1;}#sk-container-id-5 div.sk-parallel-item {display: flex;flex-direction: column;z-index: 1;position: relative;background-color: white;}#sk-container-id-5 div.sk-parallel-item:first-child::after {align-self: flex-end;width: 50%;}#sk-container-id-5 div.sk-parallel-item:last-child::after {align-self: flex-start;width: 50%;}#sk-container-id-5 div.sk-parallel-item:only-child::after {width: 0;}#sk-container-id-5 div.sk-dashed-wrapped {border: 1px dashed gray;margin: 0 0.4em 0.5em 0.4em;box-sizing: border-box;padding-bottom: 0.4em;background-color: white;}#sk-container-id-5 div.sk-label label {font-family: monospace;font-weight: bold;display: inline-block;line-height: 1.2em;}#sk-container-id-5 div.sk-label-container {text-align: center;}#sk-container-id-5 div.sk-container {/* jupyter's `normalize.less` sets `[hidden] { display: none; }` but bootstrap.min.css set `[hidden] { display: none !important; }` so we also need the `!important` here to be able to override the default hidden behavior on the sphinx rendered scikit-learn.org. See: https://github.com/scikit-learn/scikit-learn/issues/21755 */display: inline-block !important;position: relative;}#sk-container-id-5 div.sk-text-repr-fallback {display: none;}</style><div id=\"sk-container-id-5\" class=\"sk-top-container\"><div class=\"sk-text-repr-fallback\"><pre>GradientBoostingClassifier()</pre><b>In a Jupyter environment, please rerun this cell to show the HTML representation or trust the notebook. <br />On GitHub, the HTML representation is unable to render, please try loading this page with nbviewer.org.</b></div><div class=\"sk-container\" hidden><div class=\"sk-item\"><div class=\"sk-estimator sk-toggleable\"><input class=\"sk-toggleable__control sk-hidden--visually\" id=\"sk-estimator-id-5\" type=\"checkbox\" checked><label for=\"sk-estimator-id-5\" class=\"sk-toggleable__label sk-toggleable__label-arrow\">GradientBoostingClassifier</label><div class=\"sk-toggleable__content\"><pre>GradientBoostingClassifier()</pre></div></div></div></div></div>"
      ],
      "text/plain": [
       "GradientBoostingClassifier()"
      ]
     },
     "execution_count": 20,
     "metadata": {},
     "output_type": "execute_result"
    }
   ],
   "source": [
    "gr=GradientBoostingClassifier()\n",
    "gr.fit(x_train,y_train)"
   ]
  },
  {
   "cell_type": "code",
   "execution_count": null,
   "id": "9624a14f",
   "metadata": {
    "execution": {
     "iopub.execute_input": "2025-09-08T17:19:40.410916Z",
     "iopub.status.busy": "2025-09-08T17:19:40.409861Z",
     "iopub.status.idle": "2025-09-08T17:19:40.426508Z",
     "shell.execute_reply": "2025-09-08T17:19:40.425354Z"
    },
    "papermill": {
     "duration": 0.027071,
     "end_time": "2025-09-08T17:19:40.428535",
     "exception": false,
     "start_time": "2025-09-08T17:19:40.401464",
     "status": "completed"
    },
    "tags": []
   },
   "outputs": [
    {
     "name": "stdout",
     "output_type": "stream",
     "text": [
      "Accuracy:0.8258426966292135\n",
      "Confusion Matrix:\n",
      "[[96 14]\n",
      " [17 51]]\n",
      "Classification Report:\n",
      "              precision    recall  f1-score   support\n",
      "\n",
      "           0       0.85      0.87      0.86       110\n",
      "           1       0.78      0.75      0.77        68\n",
      "\n",
      "    accuracy                           0.83       178\n",
      "   macro avg       0.82      0.81      0.81       178\n",
      "weighted avg       0.82      0.83      0.83       178\n",
      "\n"
     ]
    }
   ],
   "source": [
    "df_predictions_1=gr.predict(x_test)\n",
    "accuracy=accuracy_score(y_test,df_predictions_1)\n",
    "cm=confusion_matrix(y_test,df_predictions_1)\n",
    "report=classification_report(y_test,df_predictions_1)\n",
    "print(f'''Accuracy:{accuracy}\n",
    "Confusion Matrix:\n",
    "{cm}\n",
    "Classification Report:\n",
    "{report}''')"
   ]
  },
  {
   "cell_type": "code",
   "execution_count": null,
   "id": "41e706e9",
   "metadata": {
    "execution": {
     "iopub.execute_input": "2025-09-08T17:19:40.442574Z",
     "iopub.status.busy": "2025-09-08T17:19:40.442214Z",
     "iopub.status.idle": "2025-09-08T17:19:40.464571Z",
     "shell.execute_reply": "2025-09-08T17:19:40.463544Z"
    },
    "papermill": {
     "duration": 0.031547,
     "end_time": "2025-09-08T17:19:40.466495",
     "exception": false,
     "start_time": "2025-09-08T17:19:40.434948",
     "status": "completed"
    },
    "tags": []
   },
   "outputs": [],
   "source": [
    "df_final_missing_age=final_pipeline_age.transform(df_missing)\n",
    "predicted_ages_for_titanic=for_reg.predict(df_final_missing_age).flatten()\n",
    "df.loc[df_missing.index, 'Age'] = predicted_ages_for_titanic"
   ]
  },
  {
   "cell_type": "code",
   "execution_count": null,
   "id": "e436dd87",
   "metadata": {
    "execution": {
     "iopub.execute_input": "2025-09-08T17:19:40.480953Z",
     "iopub.status.busy": "2025-09-08T17:19:40.480537Z",
     "iopub.status.idle": "2025-09-08T17:19:40.500934Z",
     "shell.execute_reply": "2025-09-08T17:19:40.499682Z"
    },
    "papermill": {
     "duration": 0.029965,
     "end_time": "2025-09-08T17:19:40.503067",
     "exception": false,
     "start_time": "2025-09-08T17:19:40.473102",
     "status": "completed"
    },
    "tags": []
   },
   "outputs": [],
   "source": [
    "df_final_predicted=pipeline(df_num,df_cat,df)"
   ]
  },
  {
   "cell_type": "code",
   "execution_count": null,
   "id": "a53331dd",
   "metadata": {
    "execution": {
     "iopub.execute_input": "2025-09-08T17:19:40.517528Z",
     "iopub.status.busy": "2025-09-08T17:19:40.517193Z",
     "iopub.status.idle": "2025-09-08T17:19:40.525737Z",
     "shell.execute_reply": "2025-09-08T17:19:40.524664Z"
    },
    "papermill": {
     "duration": 0.0181,
     "end_time": "2025-09-08T17:19:40.527696",
     "exception": false,
     "start_time": "2025-09-08T17:19:40.509596",
     "status": "completed"
    },
    "tags": []
   },
   "outputs": [],
   "source": [
    "split=StratifiedShuffleSplit(n_splits=1,test_size=0.2,random_state=42)\n",
    "for train_index, test_index in split.split(df_final_predicted, df_labels):\n",
    "    x_train_1, x_test_1 = df_final_predicted[train_index], df_final_predicted[test_index]\n",
    "    y_train_1, y_test_1 = df_labels.iloc[train_index], df_labels.iloc[test_index]"
   ]
  },
  {
   "cell_type": "code",
   "execution_count": null,
   "id": "9b5925ab",
   "metadata": {
    "execution": {
     "iopub.execute_input": "2025-09-08T17:19:40.542840Z",
     "iopub.status.busy": "2025-09-08T17:19:40.542298Z",
     "iopub.status.idle": "2025-09-08T17:19:40.717382Z",
     "shell.execute_reply": "2025-09-08T17:19:40.716111Z"
    },
    "papermill": {
     "duration": 0.185236,
     "end_time": "2025-09-08T17:19:40.719483",
     "exception": false,
     "start_time": "2025-09-08T17:19:40.534247",
     "status": "completed"
    },
    "tags": []
   },
   "outputs": [
    {
     "data": {
      "text/html": [
       "<style>#sk-container-id-6 {color: black;background-color: white;}#sk-container-id-6 pre{padding: 0;}#sk-container-id-6 div.sk-toggleable {background-color: white;}#sk-container-id-6 label.sk-toggleable__label {cursor: pointer;display: block;width: 100%;margin-bottom: 0;padding: 0.3em;box-sizing: border-box;text-align: center;}#sk-container-id-6 label.sk-toggleable__label-arrow:before {content: \"▸\";float: left;margin-right: 0.25em;color: #696969;}#sk-container-id-6 label.sk-toggleable__label-arrow:hover:before {color: black;}#sk-container-id-6 div.sk-estimator:hover label.sk-toggleable__label-arrow:before {color: black;}#sk-container-id-6 div.sk-toggleable__content {max-height: 0;max-width: 0;overflow: hidden;text-align: left;background-color: #f0f8ff;}#sk-container-id-6 div.sk-toggleable__content pre {margin: 0.2em;color: black;border-radius: 0.25em;background-color: #f0f8ff;}#sk-container-id-6 input.sk-toggleable__control:checked~div.sk-toggleable__content {max-height: 200px;max-width: 100%;overflow: auto;}#sk-container-id-6 input.sk-toggleable__control:checked~label.sk-toggleable__label-arrow:before {content: \"▾\";}#sk-container-id-6 div.sk-estimator input.sk-toggleable__control:checked~label.sk-toggleable__label {background-color: #d4ebff;}#sk-container-id-6 div.sk-label input.sk-toggleable__control:checked~label.sk-toggleable__label {background-color: #d4ebff;}#sk-container-id-6 input.sk-hidden--visually {border: 0;clip: rect(1px 1px 1px 1px);clip: rect(1px, 1px, 1px, 1px);height: 1px;margin: -1px;overflow: hidden;padding: 0;position: absolute;width: 1px;}#sk-container-id-6 div.sk-estimator {font-family: monospace;background-color: #f0f8ff;border: 1px dotted black;border-radius: 0.25em;box-sizing: border-box;margin-bottom: 0.5em;}#sk-container-id-6 div.sk-estimator:hover {background-color: #d4ebff;}#sk-container-id-6 div.sk-parallel-item::after {content: \"\";width: 100%;border-bottom: 1px solid gray;flex-grow: 1;}#sk-container-id-6 div.sk-label:hover label.sk-toggleable__label {background-color: #d4ebff;}#sk-container-id-6 div.sk-serial::before {content: \"\";position: absolute;border-left: 1px solid gray;box-sizing: border-box;top: 0;bottom: 0;left: 50%;z-index: 0;}#sk-container-id-6 div.sk-serial {display: flex;flex-direction: column;align-items: center;background-color: white;padding-right: 0.2em;padding-left: 0.2em;position: relative;}#sk-container-id-6 div.sk-item {position: relative;z-index: 1;}#sk-container-id-6 div.sk-parallel {display: flex;align-items: stretch;justify-content: center;background-color: white;position: relative;}#sk-container-id-6 div.sk-item::before, #sk-container-id-6 div.sk-parallel-item::before {content: \"\";position: absolute;border-left: 1px solid gray;box-sizing: border-box;top: 0;bottom: 0;left: 50%;z-index: -1;}#sk-container-id-6 div.sk-parallel-item {display: flex;flex-direction: column;z-index: 1;position: relative;background-color: white;}#sk-container-id-6 div.sk-parallel-item:first-child::after {align-self: flex-end;width: 50%;}#sk-container-id-6 div.sk-parallel-item:last-child::after {align-self: flex-start;width: 50%;}#sk-container-id-6 div.sk-parallel-item:only-child::after {width: 0;}#sk-container-id-6 div.sk-dashed-wrapped {border: 1px dashed gray;margin: 0 0.4em 0.5em 0.4em;box-sizing: border-box;padding-bottom: 0.4em;background-color: white;}#sk-container-id-6 div.sk-label label {font-family: monospace;font-weight: bold;display: inline-block;line-height: 1.2em;}#sk-container-id-6 div.sk-label-container {text-align: center;}#sk-container-id-6 div.sk-container {/* jupyter's `normalize.less` sets `[hidden] { display: none; }` but bootstrap.min.css set `[hidden] { display: none !important; }` so we also need the `!important` here to be able to override the default hidden behavior on the sphinx rendered scikit-learn.org. See: https://github.com/scikit-learn/scikit-learn/issues/21755 */display: inline-block !important;position: relative;}#sk-container-id-6 div.sk-text-repr-fallback {display: none;}</style><div id=\"sk-container-id-6\" class=\"sk-top-container\"><div class=\"sk-text-repr-fallback\"><pre>GradientBoostingClassifier()</pre><b>In a Jupyter environment, please rerun this cell to show the HTML representation or trust the notebook. <br />On GitHub, the HTML representation is unable to render, please try loading this page with nbviewer.org.</b></div><div class=\"sk-container\" hidden><div class=\"sk-item\"><div class=\"sk-estimator sk-toggleable\"><input class=\"sk-toggleable__control sk-hidden--visually\" id=\"sk-estimator-id-6\" type=\"checkbox\" checked><label for=\"sk-estimator-id-6\" class=\"sk-toggleable__label sk-toggleable__label-arrow\">GradientBoostingClassifier</label><div class=\"sk-toggleable__content\"><pre>GradientBoostingClassifier()</pre></div></div></div></div></div>"
      ],
      "text/plain": [
       "GradientBoostingClassifier()"
      ]
     },
     "execution_count": 25,
     "metadata": {},
     "output_type": "execute_result"
    }
   ],
   "source": [
    "gr_age=GradientBoostingClassifier()\n",
    "gr_age.fit(x_train_1,y_train_1)"
   ]
  },
  {
   "cell_type": "code",
   "execution_count": null,
   "id": "c6ba7dfc",
   "metadata": {
    "execution": {
     "iopub.execute_input": "2025-09-08T17:19:40.736321Z",
     "iopub.status.busy": "2025-09-08T17:19:40.735128Z",
     "iopub.status.idle": "2025-09-08T17:19:40.751371Z",
     "shell.execute_reply": "2025-09-08T17:19:40.750356Z"
    },
    "papermill": {
     "duration": 0.026556,
     "end_time": "2025-09-08T17:19:40.753050",
     "exception": false,
     "start_time": "2025-09-08T17:19:40.726494",
     "status": "completed"
    },
    "tags": []
   },
   "outputs": [
    {
     "name": "stdout",
     "output_type": "stream",
     "text": [
      "Accuracy:0.8146067415730337\n",
      "Confusion Matrix:\n",
      "[[96 14]\n",
      " [19 49]]\n",
      "Classification Report:\n",
      "              precision    recall  f1-score   support\n",
      "\n",
      "           0       0.83      0.87      0.85       110\n",
      "           1       0.78      0.72      0.75        68\n",
      "\n",
      "    accuracy                           0.81       178\n",
      "   macro avg       0.81      0.80      0.80       178\n",
      "weighted avg       0.81      0.81      0.81       178\n",
      "\n"
     ]
    }
   ],
   "source": [
    "df_predictions_1_age=gr_age.predict(x_test_1)\n",
    "accuracy=accuracy_score(y_test_1,df_predictions_1_age)\n",
    "cm=confusion_matrix(y_test_1,df_predictions_1_age)\n",
    "report=classification_report(y_test_1,df_predictions_1_age)\n",
    "print(f'''Accuracy:{accuracy}\n",
    "Confusion Matrix:\n",
    "{cm}\n",
    "Classification Report:\n",
    "{report}''')"
   ]
  },
  {
   "cell_type": "code",
   "execution_count": null,
   "id": "f12043ad",
   "metadata": {
    "papermill": {
     "duration": 0.007375,
     "end_time": "2025-09-08T17:19:40.767699",
     "exception": false,
     "start_time": "2025-09-08T17:19:40.760324",
     "status": "completed"
    },
    "tags": []
   },
   "outputs": [],
   "source": []
  }
 ],
 "metadata": {
  "kaggle": {
   "accelerator": "none",
   "dataSources": [
    {
     "datasetId": 1818188,
     "sourceId": 2965537,
     "sourceType": "datasetVersion"
    }
   ],
   "dockerImageVersionId": 31089,
   "isGpuEnabled": false,
   "isInternetEnabled": true,
   "language": "python",
   "sourceType": "notebook"
  },
  "kernelspec": {
   "display_name": "Python 3",
   "language": "python",
   "name": "python3"
  },
  "language_info": {
   "codemirror_mode": {
    "name": "ipython",
    "version": 3
   },
   "file_extension": ".py",
   "mimetype": "text/x-python",
   "name": "python",
   "nbconvert_exporter": "python",
   "pygments_lexer": "ipython3",
   "version": "3.11.9"
  },
  "papermill": {
   "default_parameters": {},
   "duration": 13.713431,
   "end_time": "2025-09-08T17:19:41.697615",
   "environment_variables": {},
   "exception": null,
   "input_path": "__notebook__.ipynb",
   "output_path": "__notebook__.ipynb",
   "parameters": {},
   "start_time": "2025-09-08T17:19:27.984184",
   "version": "2.6.0"
  }
 },
 "nbformat": 4,
 "nbformat_minor": 5
}
